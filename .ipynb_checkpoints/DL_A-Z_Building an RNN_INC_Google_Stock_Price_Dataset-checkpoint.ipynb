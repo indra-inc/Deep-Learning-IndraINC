{
 "cells": [
  {
   "cell_type": "markdown",
   "id": "2d8243bd",
   "metadata": {},
   "source": [
    "## Objective : Google Stock Price Prediction ( Upward and Downward Trend ) using RNN\n"
   ]
  },
  {
   "cell_type": "markdown",
   "id": "ccb10ec4",
   "metadata": {},
   "source": [
    "### S-1: Data Preprocessing :"
   ]
  },
  {
   "cell_type": "code",
   "execution_count": 1,
   "id": "062b0828",
   "metadata": {},
   "outputs": [],
   "source": [
    "  ## Importing necessary lib\n",
    "\n",
    "import pandas as pd\n",
    "import numpy as np\n",
    "import matplotlib.pyplot as plt\n",
    "%matplotlib inline\n",
    "import warnings\n",
    "warnings.filterwarnings(\"ignore\")\n",
    "plt.style.use('dark_background')\n",
    "\n",
    "from keras.models import Sequential\n",
    "from keras.layers import Dense,LSTM,Dropout"
   ]
  },
  {
   "cell_type": "code",
   "execution_count": 2,
   "id": "a7711d07",
   "metadata": {},
   "outputs": [],
   "source": [
    "## Importing Training Dataset\n",
    "data_train = pd.read_csv(\"D:\\Datasets\\Google_Stock_Price_Train_A-Z_RNN.csv\")"
   ]
  },
  {
   "cell_type": "code",
   "execution_count": 3,
   "id": "8ff9bb56",
   "metadata": {},
   "outputs": [
    {
     "data": {
      "text/html": [
       "<div>\n",
       "<style scoped>\n",
       "    .dataframe tbody tr th:only-of-type {\n",
       "        vertical-align: middle;\n",
       "    }\n",
       "\n",
       "    .dataframe tbody tr th {\n",
       "        vertical-align: top;\n",
       "    }\n",
       "\n",
       "    .dataframe thead th {\n",
       "        text-align: right;\n",
       "    }\n",
       "</style>\n",
       "<table border=\"1\" class=\"dataframe\">\n",
       "  <thead>\n",
       "    <tr style=\"text-align: right;\">\n",
       "      <th></th>\n",
       "      <th>Date</th>\n",
       "      <th>Open</th>\n",
       "      <th>High</th>\n",
       "      <th>Low</th>\n",
       "      <th>Close</th>\n",
       "      <th>Volume</th>\n",
       "    </tr>\n",
       "  </thead>\n",
       "  <tbody>\n",
       "    <tr>\n",
       "      <th>0</th>\n",
       "      <td>1/3/2012</td>\n",
       "      <td>325.25</td>\n",
       "      <td>332.83</td>\n",
       "      <td>324.97</td>\n",
       "      <td>663.59</td>\n",
       "      <td>7,380,500</td>\n",
       "    </tr>\n",
       "    <tr>\n",
       "      <th>1</th>\n",
       "      <td>1/4/2012</td>\n",
       "      <td>331.27</td>\n",
       "      <td>333.87</td>\n",
       "      <td>329.08</td>\n",
       "      <td>666.45</td>\n",
       "      <td>5,749,400</td>\n",
       "    </tr>\n",
       "    <tr>\n",
       "      <th>2</th>\n",
       "      <td>1/5/2012</td>\n",
       "      <td>329.83</td>\n",
       "      <td>330.75</td>\n",
       "      <td>326.89</td>\n",
       "      <td>657.21</td>\n",
       "      <td>6,590,300</td>\n",
       "    </tr>\n",
       "    <tr>\n",
       "      <th>3</th>\n",
       "      <td>1/6/2012</td>\n",
       "      <td>328.34</td>\n",
       "      <td>328.77</td>\n",
       "      <td>323.68</td>\n",
       "      <td>648.24</td>\n",
       "      <td>5,405,900</td>\n",
       "    </tr>\n",
       "    <tr>\n",
       "      <th>4</th>\n",
       "      <td>1/9/2012</td>\n",
       "      <td>322.04</td>\n",
       "      <td>322.29</td>\n",
       "      <td>309.46</td>\n",
       "      <td>620.76</td>\n",
       "      <td>11,688,800</td>\n",
       "    </tr>\n",
       "  </tbody>\n",
       "</table>\n",
       "</div>"
      ],
      "text/plain": [
       "       Date    Open    High     Low   Close      Volume\n",
       "0  1/3/2012  325.25  332.83  324.97  663.59   7,380,500\n",
       "1  1/4/2012  331.27  333.87  329.08  666.45   5,749,400\n",
       "2  1/5/2012  329.83  330.75  326.89  657.21   6,590,300\n",
       "3  1/6/2012  328.34  328.77  323.68  648.24   5,405,900\n",
       "4  1/9/2012  322.04  322.29  309.46  620.76  11,688,800"
      ]
     },
     "execution_count": 3,
     "metadata": {},
     "output_type": "execute_result"
    }
   ],
   "source": [
    "data_train.head()"
   ]
  },
  {
   "cell_type": "code",
   "execution_count": 4,
   "id": "32739728",
   "metadata": {},
   "outputs": [
    {
     "name": "stdout",
     "output_type": "stream",
     "text": [
      "<class 'pandas.core.frame.DataFrame'>\n",
      "RangeIndex: 1258 entries, 0 to 1257\n",
      "Data columns (total 6 columns):\n",
      " #   Column  Non-Null Count  Dtype  \n",
      "---  ------  --------------  -----  \n",
      " 0   Date    1258 non-null   object \n",
      " 1   Open    1258 non-null   float64\n",
      " 2   High    1258 non-null   float64\n",
      " 3   Low     1258 non-null   float64\n",
      " 4   Close   1258 non-null   object \n",
      " 5   Volume  1258 non-null   object \n",
      "dtypes: float64(3), object(3)\n",
      "memory usage: 59.1+ KB\n"
     ]
    }
   ],
   "source": [
    "data_train.info()"
   ]
  },
  {
   "cell_type": "code",
   "execution_count": 5,
   "id": "c7410c70",
   "metadata": {},
   "outputs": [
    {
     "data": {
      "text/plain": [
       "Date      0\n",
       "Open      0\n",
       "High      0\n",
       "Low       0\n",
       "Close     0\n",
       "Volume    0\n",
       "dtype: int64"
      ]
     },
     "execution_count": 5,
     "metadata": {},
     "output_type": "execute_result"
    }
   ],
   "source": [
    "data_train.isnull().sum()"
   ]
  },
  {
   "cell_type": "code",
   "execution_count": 6,
   "id": "c099099a",
   "metadata": {},
   "outputs": [],
   "source": [
    "## As we need First column\n",
    "training_set = data_train.iloc[:, 1:2].values    ## 1:2 means only one column"
   ]
  },
  {
   "cell_type": "code",
   "execution_count": 7,
   "id": "2faee5f1",
   "metadata": {},
   "outputs": [
    {
     "data": {
      "text/plain": [
       "array([[325.25],\n",
       "       [331.27],\n",
       "       [329.83],\n",
       "       ...,\n",
       "       [793.7 ],\n",
       "       [783.33],\n",
       "       [782.75]])"
      ]
     },
     "execution_count": 7,
     "metadata": {},
     "output_type": "execute_result"
    }
   ],
   "source": [
    "training_set"
   ]
  },
  {
   "cell_type": "code",
   "execution_count": 8,
   "id": "3aa15324",
   "metadata": {},
   "outputs": [],
   "source": [
    "## Feature Scaling\n",
    "from sklearn.preprocessing import MinMaxScaler\n",
    "sc = MinMaxScaler(feature_range = (0, 1))\n",
    "training_set_scaled = sc.fit_transform(training_set)"
   ]
  },
  {
   "cell_type": "code",
   "execution_count": 9,
   "id": "2bdf437e",
   "metadata": {},
   "outputs": [
    {
     "name": "stdout",
     "output_type": "stream",
     "text": [
      "[[0.08581368]\n",
      " [0.09701243]\n",
      " [0.09433366]\n",
      " ...\n",
      " [0.95725128]\n",
      " [0.93796041]\n",
      " [0.93688146]]\n"
     ]
    }
   ],
   "source": [
    "print(training_set_scaled)"
   ]
  },
  {
   "cell_type": "code",
   "execution_count": 10,
   "id": "16e09cf7",
   "metadata": {},
   "outputs": [],
   "source": [
    "## Creating a datastructure with 60 time steps (as per our convenient) and 1 output\n",
    "x_train = []    ## 60 previous stock prices & This is list\n",
    "y_train = []    ## Next stock price & this one is also list\n",
    "for i in range(60,1258):\n",
    "    x_train.append(training_set_scaled[i-60:i, 0])    \n",
    "    y_train.append(training_set_scaled[i, 0])\n",
    "x_train, y_train = np.array(x_train), np.array(y_train)"
   ]
  },
  {
   "cell_type": "code",
   "execution_count": 11,
   "id": "e8eaf8b7",
   "metadata": {},
   "outputs": [
    {
     "data": {
      "text/plain": [
       "array([[0.08581368, 0.09701243, 0.09433366, ..., 0.07846566, 0.08034452,\n",
       "        0.08497656],\n",
       "       [0.09701243, 0.09433366, 0.09156187, ..., 0.08034452, 0.08497656,\n",
       "        0.08627874],\n",
       "       [0.09433366, 0.09156187, 0.07984225, ..., 0.08497656, 0.08627874,\n",
       "        0.08471612],\n",
       "       ...,\n",
       "       [0.92106928, 0.92438053, 0.93048218, ..., 0.95475854, 0.95204256,\n",
       "        0.95163331],\n",
       "       [0.92438053, 0.93048218, 0.9299055 , ..., 0.95204256, 0.95163331,\n",
       "        0.95725128],\n",
       "       [0.93048218, 0.9299055 , 0.93113327, ..., 0.95163331, 0.95725128,\n",
       "        0.93796041]])"
      ]
     },
     "execution_count": 11,
     "metadata": {},
     "output_type": "execute_result"
    }
   ],
   "source": [
    "x_train"
   ]
  },
  {
   "cell_type": "code",
   "execution_count": 12,
   "id": "4ec93551",
   "metadata": {},
   "outputs": [
    {
     "data": {
      "text/plain": [
       "(1198, 60)"
      ]
     },
     "execution_count": 12,
     "metadata": {},
     "output_type": "execute_result"
    }
   ],
   "source": [
    "x_train.shape     ## 1258 - 60 = 1198"
   ]
  },
  {
   "cell_type": "code",
   "execution_count": 13,
   "id": "999db5c8",
   "metadata": {},
   "outputs": [
    {
     "data": {
      "text/plain": [
       "array([0.08627874, 0.08471612, 0.07454052, ..., 0.95725128, 0.93796041,\n",
       "       0.93688146])"
      ]
     },
     "execution_count": 13,
     "metadata": {},
     "output_type": "execute_result"
    }
   ],
   "source": [
    "y_train"
   ]
  },
  {
   "cell_type": "code",
   "execution_count": 14,
   "id": "77639ed7",
   "metadata": {},
   "outputs": [
    {
     "data": {
      "text/plain": [
       "(1198,)"
      ]
     },
     "execution_count": 14,
     "metadata": {},
     "output_type": "execute_result"
    }
   ],
   "source": [
    "y_train.shape"
   ]
  },
  {
   "cell_type": "markdown",
   "id": "0d7792c7",
   "metadata": {},
   "source": [
    "### Obs : Steps we have followed\n",
    "- 1. Creating a blank list for x_train and y_train data\n",
    "- 2. Divided the whole dataset into different parts based on 60 intervals\n",
    "- 3. Taken 1st 60 days data as feature i.e t-1 and immediate next day data i.e t as target value\n",
    "- 4. Lastly converted as list into array"
   ]
  },
  {
   "cell_type": "code",
   "execution_count": 15,
   "id": "51535de7",
   "metadata": {},
   "outputs": [],
   "source": [
    "## Reshaping to create new dimensionality i.e 3D to form our RNN\n",
    "x_train = np.reshape(x_train, (x_train.shape[0], x_train.shape[1], 1))  ## 1 is for one predictor"
   ]
  },
  {
   "cell_type": "markdown",
   "id": "3007d050",
   "metadata": {},
   "source": [
    "### S-2 : Building RNN (LSTM)"
   ]
  },
  {
   "cell_type": "code",
   "execution_count": 16,
   "id": "ef693ad6",
   "metadata": {},
   "outputs": [
    {
     "name": "stdout",
     "output_type": "stream",
     "text": [
      "Epoch 1/100\n",
      "38/38 [==============================] - 9s 64ms/step - loss: 0.0407 - accuracy: 0.0017\n",
      "Epoch 2/100\n",
      "38/38 [==============================] - 2s 63ms/step - loss: 0.0063 - accuracy: 0.0017\n",
      "Epoch 3/100\n",
      "38/38 [==============================] - 2s 64ms/step - loss: 0.0058 - accuracy: 0.0017\n",
      "Epoch 4/100\n",
      "38/38 [==============================] - 2s 61ms/step - loss: 0.0054 - accuracy: 0.0017\n",
      "Epoch 5/100\n",
      "38/38 [==============================] - 2s 61ms/step - loss: 0.0050 - accuracy: 0.0017\n",
      "Epoch 6/100\n",
      "38/38 [==============================] - 2s 61ms/step - loss: 0.0049 - accuracy: 0.0017\n",
      "Epoch 7/100\n",
      "38/38 [==============================] - 2s 60ms/step - loss: 0.0045 - accuracy: 0.0017\n",
      "Epoch 8/100\n",
      "38/38 [==============================] - 2s 61ms/step - loss: 0.0043 - accuracy: 0.0017\n",
      "Epoch 9/100\n",
      "38/38 [==============================] - 2s 60ms/step - loss: 0.0047 - accuracy: 0.0017\n",
      "Epoch 10/100\n",
      "38/38 [==============================] - 2s 60ms/step - loss: 0.0042 - accuracy: 0.0017\n",
      "Epoch 11/100\n",
      "38/38 [==============================] - 2s 59ms/step - loss: 0.0044 - accuracy: 0.0017\n",
      "Epoch 12/100\n",
      "38/38 [==============================] - 2s 64ms/step - loss: 0.0039 - accuracy: 0.0017\n",
      "Epoch 13/100\n",
      "38/38 [==============================] - 2s 63ms/step - loss: 0.0044 - accuracy: 0.0017\n",
      "Epoch 14/100\n",
      "38/38 [==============================] - 2s 63ms/step - loss: 0.0042 - accuracy: 0.0017\n",
      "Epoch 15/100\n",
      "38/38 [==============================] - 2s 65ms/step - loss: 0.0037 - accuracy: 0.0017\n",
      "Epoch 16/100\n",
      "38/38 [==============================] - 3s 66ms/step - loss: 0.0035 - accuracy: 0.0017\n",
      "Epoch 17/100\n",
      "38/38 [==============================] - 2s 64ms/step - loss: 0.0039 - accuracy: 0.0017\n",
      "Epoch 18/100\n",
      "38/38 [==============================] - 3s 66ms/step - loss: 0.0037 - accuracy: 0.0017\n",
      "Epoch 19/100\n",
      "38/38 [==============================] - 2s 64ms/step - loss: 0.0034 - accuracy: 0.0017\n",
      "Epoch 20/100\n",
      "38/38 [==============================] - 2s 65ms/step - loss: 0.0033 - accuracy: 0.0017\n",
      "Epoch 21/100\n",
      "38/38 [==============================] - 2s 64ms/step - loss: 0.0034 - accuracy: 0.0017\n",
      "Epoch 22/100\n",
      "38/38 [==============================] - 2s 63ms/step - loss: 0.0034 - accuracy: 0.0017\n",
      "Epoch 23/100\n",
      "38/38 [==============================] - 2s 64ms/step - loss: 0.0033 - accuracy: 0.0017\n",
      "Epoch 24/100\n",
      "38/38 [==============================] - 2s 63ms/step - loss: 0.0032 - accuracy: 0.0017\n",
      "Epoch 25/100\n",
      "38/38 [==============================] - 2s 63ms/step - loss: 0.0032 - accuracy: 0.0017\n",
      "Epoch 26/100\n",
      "38/38 [==============================] - 2s 61ms/step - loss: 0.0031 - accuracy: 0.0017\n",
      "Epoch 27/100\n",
      "38/38 [==============================] - 2s 63ms/step - loss: 0.0031 - accuracy: 0.0017\n",
      "Epoch 28/100\n",
      "38/38 [==============================] - 2s 64ms/step - loss: 0.0042 - accuracy: 0.0017\n",
      "Epoch 29/100\n",
      "38/38 [==============================] - 2s 64ms/step - loss: 0.0034 - accuracy: 0.0017\n",
      "Epoch 30/100\n",
      "38/38 [==============================] - 2s 65ms/step - loss: 0.0029 - accuracy: 0.0017\n",
      "Epoch 31/100\n",
      "38/38 [==============================] - 2s 64ms/step - loss: 0.0035 - accuracy: 0.0017\n",
      "Epoch 32/100\n",
      "38/38 [==============================] - 2s 65ms/step - loss: 0.0029 - accuracy: 0.0017\n",
      "Epoch 33/100\n",
      "38/38 [==============================] - 2s 60ms/step - loss: 0.0029 - accuracy: 0.0017\n",
      "Epoch 34/100\n",
      "38/38 [==============================] - 2s 59ms/step - loss: 0.0032 - accuracy: 0.0017\n",
      "Epoch 35/100\n",
      "38/38 [==============================] - 2s 60ms/step - loss: 0.0029 - accuracy: 0.0017\n",
      "Epoch 36/100\n",
      "38/38 [==============================] - 2s 60ms/step - loss: 0.0028 - accuracy: 0.0017\n",
      "Epoch 37/100\n",
      "38/38 [==============================] - 2s 65ms/step - loss: 0.0026 - accuracy: 0.0017\n",
      "Epoch 38/100\n",
      "38/38 [==============================] - 2s 64ms/step - loss: 0.0029 - accuracy: 0.0017\n",
      "Epoch 39/100\n",
      "38/38 [==============================] - 3s 66ms/step - loss: 0.0027 - accuracy: 0.0017\n",
      "Epoch 40/100\n",
      "38/38 [==============================] - 2s 62ms/step - loss: 0.0026 - accuracy: 0.0017\n",
      "Epoch 41/100\n",
      "38/38 [==============================] - 2s 58ms/step - loss: 0.0026 - accuracy: 0.0017\n",
      "Epoch 42/100\n",
      "38/38 [==============================] - 2s 59ms/step - loss: 0.0025 - accuracy: 0.0017\n",
      "Epoch 43/100\n",
      "38/38 [==============================] - 2s 60ms/step - loss: 0.0026 - accuracy: 0.0017\n",
      "Epoch 44/100\n",
      "38/38 [==============================] - 2s 60ms/step - loss: 0.0026 - accuracy: 0.0017\n",
      "Epoch 45/100\n",
      "38/38 [==============================] - 2s 66ms/step - loss: 0.0026 - accuracy: 0.0017\n",
      "Epoch 46/100\n",
      "38/38 [==============================] - 2s 64ms/step - loss: 0.0028 - accuracy: 0.0017\n",
      "Epoch 47/100\n",
      "38/38 [==============================] - 2s 64ms/step - loss: 0.0025 - accuracy: 0.0017\n",
      "Epoch 48/100\n",
      "38/38 [==============================] - 2s 65ms/step - loss: 0.0024 - accuracy: 0.0017\n",
      "Epoch 49/100\n",
      "38/38 [==============================] - 2s 64ms/step - loss: 0.0027 - accuracy: 0.0017\n",
      "Epoch 50/100\n",
      "38/38 [==============================] - 2s 64ms/step - loss: 0.0022 - accuracy: 0.0017\n",
      "Epoch 51/100\n",
      "38/38 [==============================] - 2s 63ms/step - loss: 0.0025 - accuracy: 0.0017\n",
      "Epoch 52/100\n",
      "38/38 [==============================] - 2s 63ms/step - loss: 0.0021 - accuracy: 0.0017\n",
      "Epoch 53/100\n",
      "38/38 [==============================] - 2s 62ms/step - loss: 0.0025 - accuracy: 0.0017\n",
      "Epoch 54/100\n",
      "38/38 [==============================] - 2s 64ms/step - loss: 0.0022 - accuracy: 0.0017\n",
      "Epoch 55/100\n",
      "38/38 [==============================] - 2s 63ms/step - loss: 0.0023 - accuracy: 0.0017\n",
      "Epoch 56/100\n",
      "38/38 [==============================] - 2s 63ms/step - loss: 0.0021 - accuracy: 0.0017\n",
      "Epoch 57/100\n",
      "38/38 [==============================] - 2s 65ms/step - loss: 0.0020 - accuracy: 0.0017\n",
      "Epoch 58/100\n",
      "38/38 [==============================] - 2s 63ms/step - loss: 0.0023 - accuracy: 0.0017\n",
      "Epoch 59/100\n",
      "38/38 [==============================] - 2s 63ms/step - loss: 0.0021 - accuracy: 0.0017\n",
      "Epoch 60/100\n",
      "38/38 [==============================] - 2s 64ms/step - loss: 0.0020 - accuracy: 0.0017\n",
      "Epoch 61/100\n",
      "38/38 [==============================] - 2s 62ms/step - loss: 0.0021 - accuracy: 0.0017\n",
      "Epoch 62/100\n",
      "38/38 [==============================] - 2s 64ms/step - loss: 0.0021 - accuracy: 0.0017\n",
      "Epoch 63/100\n",
      "38/38 [==============================] - 2s 63ms/step - loss: 0.0019 - accuracy: 0.0017\n",
      "Epoch 64/100\n",
      "38/38 [==============================] - 2s 64ms/step - loss: 0.0020 - accuracy: 0.0017\n",
      "Epoch 65/100\n",
      "38/38 [==============================] - 3s 66ms/step - loss: 0.0021 - accuracy: 0.0017\n",
      "Epoch 66/100\n",
      "38/38 [==============================] - 3s 70ms/step - loss: 0.0023 - accuracy: 0.0017\n",
      "Epoch 67/100\n",
      "38/38 [==============================] - 2s 64ms/step - loss: 0.0020 - accuracy: 0.0017\n",
      "Epoch 68/100\n",
      "38/38 [==============================] - 2s 64ms/step - loss: 0.0019 - accuracy: 0.0017\n",
      "Epoch 69/100\n",
      "38/38 [==============================] - 2s 63ms/step - loss: 0.0018 - accuracy: 0.0017\n",
      "Epoch 70/100\n",
      "38/38 [==============================] - 2s 63ms/step - loss: 0.0017 - accuracy: 0.0017\n",
      "Epoch 71/100\n",
      "38/38 [==============================] - 2s 65ms/step - loss: 0.0022 - accuracy: 0.0017\n",
      "Epoch 72/100\n",
      "38/38 [==============================] - 2s 65ms/step - loss: 0.0019 - accuracy: 0.0017\n",
      "Epoch 73/100\n",
      "38/38 [==============================] - 2s 65ms/step - loss: 0.0017 - accuracy: 0.0017\n",
      "Epoch 74/100\n",
      "38/38 [==============================] - 2s 65ms/step - loss: 0.0018 - accuracy: 0.0017\n",
      "Epoch 75/100\n",
      "38/38 [==============================] - 2s 65ms/step - loss: 0.0017 - accuracy: 0.0017\n",
      "Epoch 76/100\n",
      "38/38 [==============================] - 2s 64ms/step - loss: 0.0017 - accuracy: 0.0017\n",
      "Epoch 77/100\n",
      "38/38 [==============================] - 2s 64ms/step - loss: 0.0019 - accuracy: 0.0017\n",
      "Epoch 78/100\n",
      "38/38 [==============================] - 2s 66ms/step - loss: 0.0017 - accuracy: 0.0017\n",
      "Epoch 79/100\n",
      "38/38 [==============================] - 2s 65ms/step - loss: 0.0018 - accuracy: 0.0017\n",
      "Epoch 80/100\n",
      "38/38 [==============================] - 3s 66ms/step - loss: 0.0017 - accuracy: 0.0017\n",
      "Epoch 81/100\n",
      "38/38 [==============================] - 3s 69ms/step - loss: 0.0019 - accuracy: 0.0017\n",
      "Epoch 82/100\n"
     ]
    },
    {
     "name": "stdout",
     "output_type": "stream",
     "text": [
      "38/38 [==============================] - 3s 68ms/step - loss: 0.0016 - accuracy: 0.0017\n",
      "Epoch 83/100\n",
      "38/38 [==============================] - 3s 69ms/step - loss: 0.0015 - accuracy: 0.0017\n",
      "Epoch 84/100\n",
      "38/38 [==============================] - 3s 67ms/step - loss: 0.0015 - accuracy: 0.0017\n",
      "Epoch 85/100\n",
      "38/38 [==============================] - 3s 67ms/step - loss: 0.0015 - accuracy: 0.0017\n",
      "Epoch 86/100\n",
      "38/38 [==============================] - 3s 68ms/step - loss: 0.0016 - accuracy: 0.0017\n",
      "Epoch 87/100\n",
      "38/38 [==============================] - 3s 67ms/step - loss: 0.0014 - accuracy: 0.0017\n",
      "Epoch 88/100\n",
      "38/38 [==============================] - 3s 66ms/step - loss: 0.0014 - accuracy: 0.0017\n",
      "Epoch 89/100\n",
      "38/38 [==============================] - 3s 67ms/step - loss: 0.0015 - accuracy: 0.0017\n",
      "Epoch 90/100\n",
      "38/38 [==============================] - 3s 67ms/step - loss: 0.0016 - accuracy: 0.0017\n",
      "Epoch 91/100\n",
      "38/38 [==============================] - 3s 67ms/step - loss: 0.0014 - accuracy: 0.0017\n",
      "Epoch 92/100\n",
      "38/38 [==============================] - 3s 68ms/step - loss: 0.0015 - accuracy: 0.0017\n",
      "Epoch 93/100\n",
      "38/38 [==============================] - 3s 66ms/step - loss: 0.0014 - accuracy: 0.0017\n",
      "Epoch 94/100\n",
      "38/38 [==============================] - 3s 67ms/step - loss: 0.0014 - accuracy: 0.0017\n",
      "Epoch 95/100\n",
      "38/38 [==============================] - 3s 66ms/step - loss: 0.0015 - accuracy: 0.0017\n",
      "Epoch 96/100\n",
      "38/38 [==============================] - 3s 68ms/step - loss: 0.0015 - accuracy: 0.0017\n",
      "Epoch 97/100\n",
      "38/38 [==============================] - 3s 69ms/step - loss: 0.0015 - accuracy: 0.0017\n",
      "Epoch 98/100\n",
      "38/38 [==============================] - 3s 68ms/step - loss: 0.0014 - accuracy: 0.0017\n",
      "Epoch 99/100\n",
      "38/38 [==============================] - 3s 68ms/step - loss: 0.0015 - accuracy: 0.0017\n",
      "Epoch 100/100\n",
      "38/38 [==============================] - 3s 68ms/step - loss: 0.0016 - accuracy: 0.0017\n"
     ]
    },
    {
     "data": {
      "text/plain": [
       "<keras.callbacks.History at 0x133cd8d1100>"
      ]
     },
     "execution_count": 16,
     "metadata": {},
     "output_type": "execute_result"
    }
   ],
   "source": [
    "## Creating Model\n",
    "model_1 = Sequential()    # Initialise\n",
    "# Adding 1st LSTM layers\n",
    "model_1.add(LSTM(units = 50, return_sequences = True, input_shape = (x_train.shape[1], 1))) \n",
    "## Units i.e number of shells or memory unit in the LSTM layers which 50 neurons\n",
    "model_1.add(Dropout(0.2))   # Dropout Regularisation to avoid overfitting\n",
    "# Adding 2nd LSTM layers and Drooput\n",
    "model_1.add(LSTM(units = 50, return_sequences = True))\n",
    "model_1.add(Dropout(0.2))\n",
    "# Adding 3rd LSTM layers and Drooput\n",
    "model_1.add(LSTM(units = 50, return_sequences = True))\n",
    "model_1.add(Dropout(0.2))\n",
    "# Adding 4th LSTM layers and Drooput\n",
    "model_1.add(LSTM(units = 50))\n",
    "model_1.add(Dropout(0.2))\n",
    "# Adding output layers\n",
    "model_1.add(Dense(units = 1))\n",
    "\n",
    "## Compile the model\n",
    "model_1.compile(loss = 'mean_squared_error', optimizer = 'adam', metrics = ['accuracy'])\n",
    "\n",
    "## Fit the model\n",
    "model_1.fit(x_train, y_train, epochs = 100, batch_size = 32)"
   ]
  },
  {
   "cell_type": "markdown",
   "id": "1ffcf622",
   "metadata": {},
   "source": [
    "### S-3 - Making the predictions and visualising the results"
   ]
  },
  {
   "cell_type": "code",
   "execution_count": 17,
   "id": "a1271e4e",
   "metadata": {},
   "outputs": [],
   "source": [
    "### Getting the real stock price of 2017\n",
    "data_test = pd.read_csv(\"D:\\Datasets\\Google_Stock_Price_Test_A-Z_RNN.csv\")\n",
    "real_stock_price = data_test.iloc[:, 1:2].values"
   ]
  },
  {
   "cell_type": "code",
   "execution_count": 18,
   "id": "63a04d77",
   "metadata": {},
   "outputs": [
    {
     "data": {
      "text/plain": [
       "1258"
      ]
     },
     "execution_count": 18,
     "metadata": {},
     "output_type": "execute_result"
    }
   ],
   "source": [
    "len(data_train)"
   ]
  },
  {
   "cell_type": "code",
   "execution_count": 19,
   "id": "abcf4402",
   "metadata": {},
   "outputs": [
    {
     "data": {
      "text/plain": [
       "20"
      ]
     },
     "execution_count": 19,
     "metadata": {},
     "output_type": "execute_result"
    }
   ],
   "source": [
    "len(data_test)"
   ]
  },
  {
   "cell_type": "code",
   "execution_count": 20,
   "id": "0cbc4fb7",
   "metadata": {},
   "outputs": [],
   "source": [
    "data_total = pd.concat((data_train['Open'], data_test['Open']), axis = 0)  ## to get 60 prev input days\n",
    "inputs = data_total[len(data_total) - len(data_test) - 60:].values   ## as not to change the test data"
   ]
  },
  {
   "cell_type": "code",
   "execution_count": 21,
   "id": "958b61b2",
   "metadata": {},
   "outputs": [
    {
     "data": {
      "text/plain": [
       "1278"
      ]
     },
     "execution_count": 21,
     "metadata": {},
     "output_type": "execute_result"
    }
   ],
   "source": [
    "len(data_total)"
   ]
  },
  {
   "cell_type": "code",
   "execution_count": 22,
   "id": "4ab54069",
   "metadata": {},
   "outputs": [
    {
     "data": {
      "text/plain": [
       "1258"
      ]
     },
     "execution_count": 22,
     "metadata": {},
     "output_type": "execute_result"
    }
   ],
   "source": [
    "len(data_total) - len(data_test)"
   ]
  },
  {
   "cell_type": "code",
   "execution_count": 23,
   "id": "3dc19a42",
   "metadata": {},
   "outputs": [
    {
     "data": {
      "text/plain": [
       "80"
      ]
     },
     "execution_count": 23,
     "metadata": {},
     "output_type": "execute_result"
    }
   ],
   "source": [
    "len(inputs)"
   ]
  },
  {
   "cell_type": "code",
   "execution_count": 24,
   "id": "9c394216",
   "metadata": {},
   "outputs": [],
   "source": [
    "inputs = inputs.reshape(-1,1)\n",
    "inputs = sc.transform(inputs)  "
   ]
  },
  {
   "cell_type": "code",
   "execution_count": 25,
   "id": "8cf3dd59",
   "metadata": {},
   "outputs": [],
   "source": [
    "## Datastructure and Reshaping\n",
    "x_test = []\n",
    "for i in range(60, 80):\n",
    "    x_test.append(inputs[i-60:i, 0])\n",
    "x_test = np.array(x_test)\n",
    "x_test = np.reshape(x_test, (x_test.shape[0], x_test.shape[1], 1))"
   ]
  },
  {
   "cell_type": "code",
   "execution_count": 26,
   "id": "664a10a5",
   "metadata": {},
   "outputs": [],
   "source": [
    "predicted_stock_price = model_1.predict(x_test)\n",
    "predicted_stock_price = sc.inverse_transform(predicted_stock_price)  \n",
    "## Essential to inverse transform the scaling as original is not scaled"
   ]
  },
  {
   "cell_type": "code",
   "execution_count": 27,
   "id": "9f35059b",
   "metadata": {},
   "outputs": [
    {
     "data": {
      "image/png": "[encoded data removed]",
      "text/plain": [
       "<Figure size 432x288 with 1 Axes>"
      ]
     },
     "metadata": {},
     "output_type": "display_data"
    }
   ],
   "source": [
    "### Visualising the results\n",
    "plt.plot(real_stock_price, color = 'red', label = 'Real Google Stock Price')\n",
    "plt.plot(predicted_stock_price, color = 'yellow', label = 'Predicted Google Stock Price')\n",
    "plt.title('Google Stock Price Prediction')\n",
    "plt.xlabel('Time')\n",
    "plt.ylabel('Google Stock Price')\n",
    "plt.legend()\n",
    "plt.show()"
   ]
  },
  {
   "cell_type": "markdown",
   "id": "82d74484",
   "metadata": {},
   "source": [
    "### Obs : Few part is very smooth and predict well but few part doesn't "
   ]
  },
  {
   "cell_type": "markdown",
   "id": "b42e6a2f",
   "metadata": {},
   "source": [
    "## Final comments :\n",
    "-  The RNN we built was a regressor. Indeed, we were dealing with Regression because we were trying to predict a continuous outcome (the Google Stock Price). For Regression, the way to evaluate the model performance is with a metric called RMSE (Root Mean Squared Error). It is calculated as the root of the mean of the squared differences between the predictions and the real values.\n",
    "\n",
    "- However for our specific Stock Price Prediction problem, evaluating the model with the RMSE does not make much sense, since we are more interested in the directions taken by our predictions, rather than the closeness of their values to the real stock price. We want to check if our predictions follow the same directions as the real stock price and we don’t really care whether our predictions are close the real stock price. The predictions could indeed be close but often taking the opposite direction from the real stock price.\n",
    "\n",
    "\n",
    "## Improving the RNN\n",
    "- Here are different ways to improve the RNN model:\n",
    "\n",
    "1. Getting more training data: we trained our model on the past 5 years of the Google Stock Price but it would be even better to train it on the past 10 years.\n",
    "\n",
    "2. Increasing the number of timesteps: the model remembered the stock prices from the 60 previous financial days to predict the stock price of the next day. That’s because we chose a number of 60 timesteps (3 months). You could try to increase the number of timesteps, by choosing for example 120 timesteps (6 months).\n",
    "\n",
    "3. Adding some other indicators: if you have the financial instinct that the stock price of some other companies might be correlated to the one of Google, you could add this other stock price as a new indicator in the training data.\n",
    "\n",
    "4. Adding more LSTM layers: we built a RNN with four LSTM layers but you could try with even more.\n",
    "\n",
    "5. Adding more neurones in the LSTM layers: we highlighted the fact that we needed a high number of neurones in the LSTM layers to respond better to the complexity of the problem and we chose to include 50 neurones in each of our 4 LSTM layers. You could try an architecture with even more neurones in each of the 4 (or more) LSTM layers."
   ]
  },
  {
   "cell_type": "markdown",
   "id": "ae0d7e59",
   "metadata": {},
   "source": [
    "## END"
   ]
  },
  {
   "cell_type": "code",
   "execution_count": null,
   "id": "4017bcb8",
   "metadata": {},
   "outputs": [],
   "source": []
  }
 ],
 "metadata": {
  "kernelspec": {
   "display_name": "Python 3 (ipykernel)",
   "language": "python",
   "name": "python3"
  },
  "language_info": {
   "codemirror_mode": {
    "name": "ipython",
    "version": 3
   },
   "file_extension": ".py",
   "mimetype": "text/x-python",
   "name": "python",
   "nbconvert_exporter": "python",
   "pygments_lexer": "ipython3",
   "version": "3.9.7"
  }
 },
 "nbformat": 4,
 "nbformat_minor": 5
}
